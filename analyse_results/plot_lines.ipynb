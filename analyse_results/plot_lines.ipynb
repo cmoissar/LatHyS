{
 "cells": [
  {
   "cell_type": "code",
   "execution_count": 1,
   "id": "88664dd5-b290-419c-afd7-ff1e50756b84",
   "metadata": {},
   "outputs": [],
   "source": [
    "import numpy as np\n",
    "import import_data_from_3D_ncfiles as import_data\n",
    "import os\n",
    "from matplotlib import pyplot as plt"
   ]
  },
  {
   "cell_type": "code",
   "execution_count": 2,
   "id": "db28e8c9-a160-412b-890e-a5c80b38b664",
   "metadata": {},
   "outputs": [],
   "source": [
    "##############################################################\n",
    "# Modify filepath and filepath_out\n",
    "##############################################################\n",
    "\n",
    "run = '24_05_15_Long_box_run_1'\n",
    "\n",
    "data_directory = run + '/ncfiles/'\n",
    "filepath_out = run + '/analysis/'\n",
    "\n",
    "if not os.path.exists(filepath_out):\n",
    "    os.mkdir(filepath_out)"
   ]
  },
  {
   "cell_type": "code",
   "execution_count": 3,
   "id": "d4f9cfb6-a8cc-4a18-a5e9-2efa5b812be5",
   "metadata": {},
   "outputs": [],
   "source": [
    "##############################################################\n",
    "# List times     \n",
    "##############################################################\n",
    "\n",
    "times = []\n",
    "for file in os.listdir(data_directory):\n",
    "    time = file[-8:-3]\n",
    "    time = int(time)\n",
    "    times.append(time)\n",
    "    \n",
    "times = sorted(list(set(times)))"
   ]
  },
  {
   "cell_type": "code",
   "execution_count": 8,
   "id": "0ff26c4c-0884-4758-b11b-e56a3c3ffed2",
   "metadata": {},
   "outputs": [
    {
     "name": "stdout",
     "output_type": "stream",
     "text": [
      "Extracting simulation data for time 00000\n",
      "Extracting simulation data for time 00010\n",
      "Extracting simulation data for time 00030\n",
      "Extracting simulation data for time 00050\n",
      "Extracting simulation data for time 00070\n",
      "Extracting simulation data for time 00090\n",
      "Extracting simulation data for time 00100\n",
      "Extracting simulation data for time 00105\n",
      "Extracting simulation data for time 00110\n",
      "Extracting simulation data for time 00115\n",
      "Extracting simulation data for time 00120\n",
      "Extracting simulation data for time 00125\n",
      "Extracting simulation data for time 00130\n",
      "Extracting simulation data for time 00135\n",
      "Extracting simulation data for time 00140\n",
      "Extracting simulation data for time 00145\n",
      "Extracting simulation data for time 00150\n",
      "Extracting simulation data for time 00155\n",
      "Extracting simulation data for time 00160\n",
      "Extracting simulation data for time 00165\n",
      "Extracting simulation data for time 00170\n",
      "Extracting simulation data for time 00175\n",
      "Extracting simulation data for time 00180\n",
      "Extracting simulation data for time 00185\n",
      "Extracting simulation data for time 00190\n",
      "Extracting simulation data for time 00195\n",
      "Extracting simulation data for time 00200\n",
      "Extracting simulation data for time 00201\n",
      "Extracting simulation data for time 00202\n",
      "Extracting simulation data for time 00203\n",
      "Extracting simulation data for time 00204\n",
      "Extracting simulation data for time 00205\n",
      "Extracting simulation data for time 00206\n",
      "Extracting simulation data for time 00207\n",
      "Extracting simulation data for time 00208\n",
      "Extracting simulation data for time 00209\n",
      "Extracting simulation data for time 00210\n",
      "Extracting simulation data for time 00211\n",
      "Extracting simulation data for time 00212\n",
      "Extracting simulation data for time 00213\n",
      "Extracting simulation data for time 00214\n",
      "Extracting simulation data for time 00215\n",
      "Extracting simulation data for time 00216\n",
      "Extracting simulation data for time 00217\n",
      "Extracting simulation data for time 00218\n",
      "Extracting simulation data for time 00219\n",
      "Extracting simulation data for time 00220\n",
      "Extracting simulation data for time 00225\n",
      "Extracting simulation data for time 00230\n",
      "Extracting simulation data for time 00235\n",
      "Extracting simulation data for time 00240\n",
      "Extracting simulation data for time 00250\n",
      "Extracting simulation data for time 00260\n",
      "Extracting simulation data for time 00270\n",
      "Extracting simulation data for time 00280\n",
      "Extracting simulation data for time 00290\n",
      "Extracting simulation data for time 00300\n"
     ]
    },
    {
     "data": {
      "image/png": "[encoded data removed]",
      "text/plain": [
       "<Figure size 640x480 with 1 Axes>"
      ]
     },
     "metadata": {},
     "output_type": "display_data"
    }
   ],
   "source": [
    "for time in times:\n",
    "    time_string = str(time).zfill(5)\n",
    "    \n",
    "    ##############################################################\n",
    "    # Extract Data      \n",
    "    ##############################################################\n",
    "\n",
    "    x, y, z, nx0, ny0, nz0, N, T, Vx, Vy, Vz, V, Ex, Ey, Ez, E, Bx, By, Bz, B = import_data.load_data_3D(data_directory, time)\n",
    "\n",
    "    ##############################################################\n",
    "    # Average along y and z axis to get a line (this only makes sense for a \"long\" box)    \n",
    "    ##############################################################\n",
    "\n",
    "    E_long = np.mean(E, axis=(1,2))\n",
    "    B_long = np.mean(B, axis=(1,2))\n",
    "    V_long = np.mean(V, axis=(1,2))\n",
    "    N_long = np.mean(N, axis=(1,2))\n",
    "    \n",
    "    plt.clf()\n",
    "    plt.plot(x, N_long)\n",
    "    plt.gca().invert_xaxis()\n",
    "    plt.savefig(filepath_out + f\"N_{time}\")\n",
    "    \n",
    "    plt.clf()\n",
    "    plt.plot(x, B_long)\n",
    "    plt.gca().invert_xaxis()\n",
    "    plt.savefig(filepath_out + f\"B_{time}\")\n",
    "    \n",
    "    plt.clf()\n",
    "    plt.plot(x, V_long)\n",
    "    plt.gca().invert_xaxis()\n",
    "    plt.savefig(filepath_out + f\"V_{time}\")"
   ]
  },
  {
   "cell_type": "markdown",
   "id": "36c40c70-33f3-4606-b34c-421950838c41",
   "metadata": {},
   "source": [
    "**Note:**\n",
    "The units are not all in SI.\n",
    "\n",
    "[B] = nT \n",
    "\n",
    "[V] = m/s\n",
    "\n",
    "[E] = nV/m [?]\n",
    "\n",
    "[N] = number / cubic centimetre\n",
    "\n",
    "[T] = eV\n",
    "\n",
    "[x] = $c \\omega_{pi}$"
   ]
  }
 ],
 "metadata": {
  "kernelspec": {
   "display_name": "Python 3 (ipykernel)",
   "language": "python",
   "name": "python3"
  },
  "language_info": {
   "codemirror_mode": {
    "name": "ipython",
    "version": 3
   },
   "file_extension": ".py",
   "mimetype": "text/x-python",
   "name": "python",
   "nbconvert_exporter": "python",
   "pygments_lexer": "ipython3",
   "version": "3.10.12"
  }
 },
 "nbformat": 4,
 "nbformat_minor": 5
}
